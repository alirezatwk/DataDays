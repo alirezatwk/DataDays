{
 "cells": [
  {
   "cell_type": "code",
   "execution_count": 1,
   "metadata": {},
   "outputs": [],
   "source": [
    "import numpy as np\n",
    "import pandas as pd"
   ]
  },
  {
   "cell_type": "code",
   "execution_count": 2,
   "metadata": {},
   "outputs": [
    {
     "data": {
      "text/html": [
       "<div>\n",
       "<style scoped>\n",
       "    .dataframe tbody tr th:only-of-type {\n",
       "        vertical-align: middle;\n",
       "    }\n",
       "\n",
       "    .dataframe tbody tr th {\n",
       "        vertical-align: top;\n",
       "    }\n",
       "\n",
       "    .dataframe thead th {\n",
       "        text-align: right;\n",
       "    }\n",
       "</style>\n",
       "<table border=\"1\" class=\"dataframe\">\n",
       "  <thead>\n",
       "    <tr style=\"text-align: right;\">\n",
       "      <th></th>\n",
       "      <th>displayId</th>\n",
       "      <th>adId</th>\n",
       "      <th>clicked</th>\n",
       "      <th>userId</th>\n",
       "    </tr>\n",
       "  </thead>\n",
       "  <tbody>\n",
       "    <tr>\n",
       "      <th>0</th>\n",
       "      <td>1210227</td>\n",
       "      <td>7182</td>\n",
       "      <td>0</td>\n",
       "      <td>782749</td>\n",
       "    </tr>\n",
       "    <tr>\n",
       "      <th>1</th>\n",
       "      <td>1210227</td>\n",
       "      <td>7125</td>\n",
       "      <td>0</td>\n",
       "      <td>782749</td>\n",
       "    </tr>\n",
       "    <tr>\n",
       "      <th>2</th>\n",
       "      <td>1210227</td>\n",
       "      <td>7181</td>\n",
       "      <td>0</td>\n",
       "      <td>782749</td>\n",
       "    </tr>\n",
       "    <tr>\n",
       "      <th>3</th>\n",
       "      <td>1210227</td>\n",
       "      <td>535</td>\n",
       "      <td>0</td>\n",
       "      <td>782749</td>\n",
       "    </tr>\n",
       "    <tr>\n",
       "      <th>4</th>\n",
       "      <td>1210227</td>\n",
       "      <td>7174</td>\n",
       "      <td>1</td>\n",
       "      <td>782749</td>\n",
       "    </tr>\n",
       "  </tbody>\n",
       "</table>\n",
       "</div>"
      ],
      "text/plain": [
       "   displayId  adId  clicked  userId\n",
       "0    1210227  7182        0  782749\n",
       "1    1210227  7125        0  782749\n",
       "2    1210227  7181        0  782749\n",
       "3    1210227   535        0  782749\n",
       "4    1210227  7174        1  782749"
      ]
     },
     "execution_count": 2,
     "metadata": {},
     "output_type": "execute_result"
    }
   ],
   "source": [
    "eventData = pd.read_csv('event.csv')\n",
    "clickTrainData = pd.read_csv('click_train.csv')\n",
    "\n",
    "dropEvent = ['timestamp', 'pageId', 'OS', 'browser', 'device', 'widgetId']\n",
    "cleanEventData = eventData.drop(columns = dropEvent)\n",
    "\n",
    "eventData = cleanEventData.sort_values(by = ['displayId']).to_numpy()\n",
    "clickTrainData = clickTrainData.sort_values(by = ['displayId']).to_numpy()\n",
    "\n",
    "(evn, evm) = eventData.shape\n",
    "(trainn, trainm) = clickTrainData.shape\n",
    "\n",
    "# merging displayId\n",
    "columnsList = ['displayId', 'adId', 'clicked', 'userId']\n",
    "(resn, resm) = (trainn, evm + trainm - 1)\n",
    "\n",
    "result = np.zeros((resn, resm), dtype = np.int64)\n",
    "\n",
    "curr = 0\n",
    "for i in range(trainn):\n",
    "    while curr < evn and eventData[curr][0] < clickTrainData[i][0]:\n",
    "        curr += 1\n",
    "        \n",
    "    if curr < evn and clickTrainData[i][0] == eventData[curr][0]:\n",
    "        cnt = 0\n",
    "        for j in range(0, trainm):\n",
    "            result[i][cnt] = clickTrainData[i][j]\n",
    "            cnt += 1\n",
    "        for j in range(1, evm):\n",
    "            result[i][cnt] = eventData[curr][j]\n",
    "            cnt += 1\n",
    "    else:\n",
    "        print('One missed row')\n",
    "\n",
    "trainDisplayId = pd.DataFrame(data = result, columns = columnsList)\n",
    "trainDisplayId.head()"
   ]
  },
  {
   "cell_type": "code",
   "execution_count": 3,
   "metadata": {},
   "outputs": [
    {
     "data": {
      "text/html": [
       "<div>\n",
       "<style scoped>\n",
       "    .dataframe tbody tr th:only-of-type {\n",
       "        vertical-align: middle;\n",
       "    }\n",
       "\n",
       "    .dataframe tbody tr th {\n",
       "        vertical-align: top;\n",
       "    }\n",
       "\n",
       "    .dataframe thead th {\n",
       "        text-align: right;\n",
       "    }\n",
       "</style>\n",
       "<table border=\"1\" class=\"dataframe\">\n",
       "  <thead>\n",
       "    <tr style=\"text-align: right;\">\n",
       "      <th></th>\n",
       "      <th>displayId</th>\n",
       "      <th>adId</th>\n",
       "      <th>clicked</th>\n",
       "      <th>userId</th>\n",
       "      <th>wordId0</th>\n",
       "      <th>wordId1</th>\n",
       "      <th>wordId2</th>\n",
       "      <th>wordId3</th>\n",
       "      <th>wordId4</th>\n",
       "    </tr>\n",
       "  </thead>\n",
       "  <tbody>\n",
       "    <tr>\n",
       "      <th>3642243</th>\n",
       "      <td>1210227</td>\n",
       "      <td>7182</td>\n",
       "      <td>0</td>\n",
       "      <td>782749</td>\n",
       "      <td>108</td>\n",
       "      <td>675</td>\n",
       "      <td>734</td>\n",
       "      <td>1006</td>\n",
       "      <td>2313</td>\n",
       "    </tr>\n",
       "    <tr>\n",
       "      <th>3639160</th>\n",
       "      <td>1210227</td>\n",
       "      <td>7181</td>\n",
       "      <td>0</td>\n",
       "      <td>782749</td>\n",
       "      <td>853</td>\n",
       "      <td>1006</td>\n",
       "      <td>734</td>\n",
       "      <td>675</td>\n",
       "      <td>108</td>\n",
       "    </tr>\n",
       "    <tr>\n",
       "      <th>745066</th>\n",
       "      <td>1210227</td>\n",
       "      <td>535</td>\n",
       "      <td>0</td>\n",
       "      <td>782749</td>\n",
       "      <td>13</td>\n",
       "      <td>16</td>\n",
       "      <td>135</td>\n",
       "      <td>859</td>\n",
       "      <td>0</td>\n",
       "    </tr>\n",
       "    <tr>\n",
       "      <th>3625504</th>\n",
       "      <td>1210227</td>\n",
       "      <td>7125</td>\n",
       "      <td>0</td>\n",
       "      <td>782749</td>\n",
       "      <td>2544</td>\n",
       "      <td>1221</td>\n",
       "      <td>912</td>\n",
       "      <td>910</td>\n",
       "      <td>333</td>\n",
       "    </tr>\n",
       "    <tr>\n",
       "      <th>3636967</th>\n",
       "      <td>1210227</td>\n",
       "      <td>7174</td>\n",
       "      <td>1</td>\n",
       "      <td>782749</td>\n",
       "      <td>29</td>\n",
       "      <td>109</td>\n",
       "      <td>203</td>\n",
       "      <td>2571</td>\n",
       "      <td>2572</td>\n",
       "    </tr>\n",
       "  </tbody>\n",
       "</table>\n",
       "</div>"
      ],
      "text/plain": [
       "         displayId  adId  clicked  userId  wordId0  wordId1  wordId2  wordId3  \\\n",
       "3642243    1210227  7182        0  782749      108      675      734     1006   \n",
       "3639160    1210227  7181        0  782749      853     1006      734      675   \n",
       "745066     1210227   535        0  782749       13       16      135      859   \n",
       "3625504    1210227  7125        0  782749     2544     1221      912      910   \n",
       "3636967    1210227  7174        1  782749       29      109      203     2571   \n",
       "\n",
       "         wordId4  \n",
       "3642243     2313  \n",
       "3639160      108  \n",
       "745066         0  \n",
       "3625504      333  \n",
       "3636967     2572  "
      ]
     },
     "execution_count": 3,
     "metadata": {},
     "output_type": "execute_result"
    }
   ],
   "source": [
    "adTitle = pd.read_csv('ad_title.csv')\n",
    "\n",
    "adTitle = adTitle.sort_values(by = ['adId']).to_numpy()\n",
    "trainForAdId = trainDisplayId.sort_values(by = ['adId']).to_numpy()\n",
    "\n",
    "numberOfWords = 5\n",
    "(trainn, trainm) = trainForAdId.shape\n",
    "(adn, adm) = adTitle.shape\n",
    "\n",
    "# merging adId\n",
    "columnsList = ['displayId', 'adId', 'clicked', 'userId']\n",
    "for i in range(numberOfWords):\n",
    "    columnsList.append('wordId' + str(i))\n",
    "(resn, resm) = (trainn, trainm + numberOfWords)\n",
    "\n",
    "result = np.zeros((resn, resm), dtype = np.int64)\n",
    "\n",
    "curr = 0\n",
    "for i in range(trainn):\n",
    "    while curr < adn and adTitle[curr][0] < trainForAdId[i][1]:\n",
    "        curr += 1\n",
    "        \n",
    "    if curr < adn and trainForAdId[i][1] == adTitle[curr][0]:\n",
    "        cnt = 0\n",
    "        for j in range(0, trainm):\n",
    "            result[i][cnt] = trainForAdId[i][j]\n",
    "            cnt += 1\n",
    "        for j in range(numberOfWords):\n",
    "            if adTitle[curr + j][0] == adTitle[curr][0]:\n",
    "                result[i][cnt] = adTitle[curr + j][1]\n",
    "            else:\n",
    "                result[i][cnt] = 0 #Salam bar tof!\n",
    "            cnt += 1\n",
    "    else:\n",
    "        cnt = 0\n",
    "        for j in range(0, trainm):\n",
    "            result[i][cnt] = trainForAdId[i][j]\n",
    "            cnt += 1\n",
    "        for j in range(numberOfWords):\n",
    "            result[i][cnt] = 0 #Salam bar tof!\n",
    "            cnt += 1\n",
    "\n",
    "trainMerged = pd.DataFrame(data = result, columns = columnsList)\n",
    "trainMerged = trainMerged.sort_values(by = ['displayId'])\n",
    "trainMerged.head()"
   ]
  },
  {
   "cell_type": "code",
   "execution_count": 4,
   "metadata": {},
   "outputs": [
    {
     "data": {
      "text/html": [
       "<div>\n",
       "<style scoped>\n",
       "    .dataframe tbody tr th:only-of-type {\n",
       "        vertical-align: middle;\n",
       "    }\n",
       "\n",
       "    .dataframe tbody tr th {\n",
       "        vertical-align: top;\n",
       "    }\n",
       "\n",
       "    .dataframe thead th {\n",
       "        text-align: right;\n",
       "    }\n",
       "</style>\n",
       "<table border=\"1\" class=\"dataframe\">\n",
       "  <thead>\n",
       "    <tr style=\"text-align: right;\">\n",
       "      <th></th>\n",
       "      <th>displayId</th>\n",
       "      <th>adId</th>\n",
       "      <th>clicked</th>\n",
       "      <th>userId</th>\n",
       "      <th>wordId0</th>\n",
       "      <th>wordId1</th>\n",
       "      <th>wordId2</th>\n",
       "      <th>wordId3</th>\n",
       "      <th>wordId4</th>\n",
       "    </tr>\n",
       "  </thead>\n",
       "  <tbody>\n",
       "    <tr>\n",
       "      <th>3642243</th>\n",
       "      <td>1210227</td>\n",
       "      <td>7182</td>\n",
       "      <td>0</td>\n",
       "      <td>782749</td>\n",
       "      <td>108</td>\n",
       "      <td>675</td>\n",
       "      <td>734</td>\n",
       "      <td>1006</td>\n",
       "      <td>2313</td>\n",
       "    </tr>\n",
       "    <tr>\n",
       "      <th>3639160</th>\n",
       "      <td>1210227</td>\n",
       "      <td>7181</td>\n",
       "      <td>0</td>\n",
       "      <td>782749</td>\n",
       "      <td>853</td>\n",
       "      <td>1006</td>\n",
       "      <td>734</td>\n",
       "      <td>675</td>\n",
       "      <td>108</td>\n",
       "    </tr>\n",
       "    <tr>\n",
       "      <th>745066</th>\n",
       "      <td>1210227</td>\n",
       "      <td>535</td>\n",
       "      <td>0</td>\n",
       "      <td>782749</td>\n",
       "      <td>13</td>\n",
       "      <td>16</td>\n",
       "      <td>135</td>\n",
       "      <td>859</td>\n",
       "      <td>0</td>\n",
       "    </tr>\n",
       "    <tr>\n",
       "      <th>3625504</th>\n",
       "      <td>1210227</td>\n",
       "      <td>7125</td>\n",
       "      <td>0</td>\n",
       "      <td>782749</td>\n",
       "      <td>2544</td>\n",
       "      <td>1221</td>\n",
       "      <td>912</td>\n",
       "      <td>910</td>\n",
       "      <td>333</td>\n",
       "    </tr>\n",
       "    <tr>\n",
       "      <th>3636967</th>\n",
       "      <td>1210227</td>\n",
       "      <td>7174</td>\n",
       "      <td>1</td>\n",
       "      <td>782749</td>\n",
       "      <td>29</td>\n",
       "      <td>109</td>\n",
       "      <td>203</td>\n",
       "      <td>2571</td>\n",
       "      <td>2572</td>\n",
       "    </tr>\n",
       "  </tbody>\n",
       "</table>\n",
       "</div>"
      ],
      "text/plain": [
       "         displayId  adId  clicked  userId  wordId0  wordId1  wordId2  wordId3  \\\n",
       "3642243    1210227  7182        0  782749      108      675      734     1006   \n",
       "3639160    1210227  7181        0  782749      853     1006      734      675   \n",
       "745066     1210227   535        0  782749       13       16      135      859   \n",
       "3625504    1210227  7125        0  782749     2544     1221      912      910   \n",
       "3636967    1210227  7174        1  782749       29      109      203     2571   \n",
       "\n",
       "         wordId4  \n",
       "3642243     2313  \n",
       "3639160      108  \n",
       "745066         0  \n",
       "3625504      333  \n",
       "3636967     2572  "
      ]
     },
     "execution_count": 4,
     "metadata": {},
     "output_type": "execute_result"
    }
   ],
   "source": [
    "train = trainMerged.copy(deep = True)\n",
    "train.head()"
   ]
  },
  {
   "cell_type": "code",
   "execution_count": 5,
   "metadata": {},
   "outputs": [],
   "source": [
    "train = train.to_numpy()\n",
    "i = 0\n",
    "y_train = []\n",
    "X_train = []\n",
    "y_test = []\n",
    "X_test = []\n",
    "while(i < train.shape[0]):\n",
    "    k = i + 1\n",
    "    # here 0 is the column that is displayId\n",
    "    while(k < train.shape[0] and train[i][0] == train[k][0]):\n",
    "        k += 1\n",
    "    # here 2 is clicked column\n",
    "    # :2\n",
    "    if(np.random.randint(low = 1, high = 100) < 33):\n",
    "        for j in range(i, k):\n",
    "            y_test.append(train[j][2])\n",
    "            X_test.append([*train[j][:2], *train[j][3:]])\n",
    "    else:\n",
    "        for j in range(i, k):\n",
    "            y_train.append(train[j][2])\n",
    "            X_train.append([*train[j][:2], *train[j][3:]])\n",
    "    i = k\n",
    "    \n",
    "columnsList = ['displayId', 'adId', 'userId']\n",
    "for i in range(numberOfWords):\n",
    "    columnsList.append('wordId' + str(i))\n",
    "    \n",
    "X_train = pd.DataFrame(data = X_train, columns = columnsList)\n",
    "X_test = pd.DataFrame(data = X_test, columns = columnsList)\n",
    "y_train = pd.DataFrame(data = y_train, columns = ['clicked'])\n",
    "y_test = pd.DataFrame(data = y_test, columns = ['clicked'])"
   ]
  },
  {
   "cell_type": "code",
   "execution_count": 22,
   "metadata": {},
   "outputs": [],
   "source": [
    "X_trainWithoutIds = X_train.drop(columns = ['displayId'])\n",
    "X_testWithoutIds = X_test.drop(columns = ['displayId'])"
   ]
  },
  {
   "cell_type": "markdown",
   "metadata": {},
   "source": [
    "# New Method"
   ]
  },
  {
   "cell_type": "code",
   "execution_count": 8,
   "metadata": {},
   "outputs": [
    {
     "data": {
      "text/plain": [
       "CalibratedClassifierCV(base_estimator=SGDClassifier(alpha=0.0001, average=False,\n",
       "                                                    class_weight=None,\n",
       "                                                    early_stopping=False,\n",
       "                                                    epsilon=0.1, eta0=0.0,\n",
       "                                                    fit_intercept=True,\n",
       "                                                    l1_ratio=0.15,\n",
       "                                                    learning_rate='optimal',\n",
       "                                                    loss='hinge',\n",
       "                                                    max_iter=1000000,\n",
       "                                                    n_iter_no_change=5,\n",
       "                                                    n_jobs=None, penalty='l2',\n",
       "                                                    power_t=0.5,\n",
       "                                                    random_state=None,\n",
       "                                                    shuffle=True, tol=0.001,\n",
       "                                                    validation_fraction=0.1,\n",
       "                                                    verbose=0,\n",
       "                                                    warm_start=False),\n",
       "                       cv=None, method='sigmoid')"
      ]
     },
     "execution_count": 8,
     "metadata": {},
     "output_type": "execute_result"
    }
   ],
   "source": [
    "from sklearn.linear_model import SGDClassifier\n",
    "from sklearn.calibration import CalibratedClassifierCV\n",
    "base_model = SGDClassifier(max_iter = 1000000)\n",
    "model = CalibratedClassifierCV(base_model)\n",
    "model.fit(X_trainWithoutIds, yTrain)"
   ]
  },
  {
   "cell_type": "code",
   "execution_count": 9,
   "metadata": {},
   "outputs": [],
   "source": [
    "predictions = model.predict_proba(X_testWithoutIds)"
   ]
  },
  {
   "cell_type": "code",
   "execution_count": 11,
   "metadata": {},
   "outputs": [
    {
     "name": "stdout",
     "output_type": "stream",
     "text": [
      "[0.77700052 0.22299948]\n",
      "[0.77700052 0.22299948]\n",
      "[0.77700052 0.22299948]\n",
      "[0.77700052 0.22299948]\n",
      "[0.77700052 0.22299948]\n",
      "[0.77700052 0.22299948]\n",
      "[0.77700052 0.22299948]\n",
      "[0.77700052 0.22299948]\n",
      "[0.77700052 0.22299948]\n",
      "[0.77700052 0.22299948]\n"
     ]
    }
   ],
   "source": [
    "for i in range(10):\n",
    "    print(predictions[i])"
   ]
  },
  {
   "cell_type": "code",
   "execution_count": 23,
   "metadata": {},
   "outputs": [
    {
     "data": {
      "text/plain": [
       "DecisionTreeClassifier(ccp_alpha=0.0, class_weight=None, criterion='gini',\n",
       "                       max_depth=15, max_features=None, max_leaf_nodes=None,\n",
       "                       min_impurity_decrease=0.0, min_impurity_split=None,\n",
       "                       min_samples_leaf=1, min_samples_split=2,\n",
       "                       min_weight_fraction_leaf=0.0, presort='deprecated',\n",
       "                       random_state=1, splitter='best')"
      ]
     },
     "execution_count": 23,
     "metadata": {},
     "output_type": "execute_result"
    }
   ],
   "source": [
    "from sklearn.tree import DecisionTreeClassifier\n",
    "treeModel = DecisionTreeClassifier(random_state=1, max_depth=15)\n",
    "treeModel.fit(X_trainWithoutIds, y_train)"
   ]
  },
  {
   "cell_type": "code",
   "execution_count": 24,
   "metadata": {},
   "outputs": [],
   "source": [
    "predictions = treeModel.predict_proba(X_testWithoutIds)"
   ]
  },
  {
   "cell_type": "markdown",
   "metadata": {},
   "source": [
    "# Seyed Algorithm"
   ]
  },
  {
   "cell_type": "code",
   "execution_count": 58,
   "metadata": {},
   "outputs": [],
   "source": [
    "from sklearn.datasets import load_iris\n",
    "from sklearn.model_selection import train_test_split\n",
    "from sklearn.naive_bayes import CategoricalNB\n",
    "gnb = CategoricalNB()\n",
    "y_pred =gnb.fit(X_trainWithoutIds, yTrain).predict_proba(X_testWithoutIds)"
   ]
  },
  {
   "cell_type": "code",
   "execution_count": 59,
   "metadata": {},
   "outputs": [
    {
     "name": "stdout",
     "output_type": "stream",
     "text": [
      "[0.35557331 0.64442669]\n",
      "[0.44384582 0.55615418]\n",
      "[0.42801486 0.57198514]\n",
      "[0.94839115 0.05160885]\n",
      "[0.83239495 0.16760505]\n",
      "[0.90913667 0.09086333]\n",
      "[0.83239495 0.16760505]\n",
      "[0.30859265 0.69140735]\n",
      "[0.44384582 0.55615418]\n",
      "[0.35557331 0.64442669]\n"
     ]
    }
   ],
   "source": [
    "for i in range(10):\n",
    "    print(y_pred[i])"
   ]
  },
  {
   "cell_type": "code",
   "execution_count": 60,
   "metadata": {},
   "outputs": [
    {
     "name": "stdout",
     "output_type": "stream",
     "text": [
      "0.3579856970315816\n"
     ]
    }
   ],
   "source": [
    "X_testnp = X_test.to_numpy()\n",
    "y_testnp = y_test.to_numpy()\n",
    "correctAns = 0\n",
    "All = 0\n",
    "i = 0\n",
    "while i < X_testnp.shape[0]:\n",
    "    k = i + 1\n",
    "    maxId = i\n",
    "    while k < X_testnp.shape[0] and X_testnp[i][0] == X_testnp[k][0]:\n",
    "        if y_pred[k][1] > y_pred[maxId][1]:\n",
    "            maxId = k\n",
    "        k += 1\n",
    "    if y_testnp[maxId] == 1:\n",
    "        correctAns += 1\n",
    "    All += 1\n",
    "    i = k\n",
    "print(correctAns / All)"
   ]
  },
  {
   "cell_type": "code",
   "execution_count": null,
   "metadata": {},
   "outputs": [],
   "source": []
  }
 ],
 "metadata": {
  "kernelspec": {
   "display_name": "Python 3",
   "language": "python",
   "name": "python3"
  },
  "language_info": {
   "codemirror_mode": {
    "name": "ipython",
    "version": 3
   },
   "file_extension": ".py",
   "mimetype": "text/x-python",
   "name": "python",
   "nbconvert_exporter": "python",
   "pygments_lexer": "ipython3",
   "version": "3.7.5"
  }
 },
 "nbformat": 4,
 "nbformat_minor": 2
}
