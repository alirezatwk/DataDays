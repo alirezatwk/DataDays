{
 "cells": [
  {
   "cell_type": "markdown",
   "metadata": {},
   "source": [
    "previous version of score"
   ]
  },
  {
   "cell_type": "code",
   "execution_count": null,
   "metadata": {},
   "outputs": [],
   "source": [
    "X_testnp = X_test.to_numpy()\n",
    "y_testnp = y_test.to_numpy()\n",
    "correctAns = 0\n",
    "All = 0\n",
    "i = 0\n",
    "while i < X_testnp.shape[0]:\n",
    "    k = i + 1\n",
    "    maxId = i\n",
    "    while k < X_testnp.shape[0] and X_testnp[i][0] == X_testnp[k][0]:\n",
    "        if predictions[k][1] > predictions[maxId][1]:\n",
    "            maxId = k\n",
    "        k += 1\n",
    "    if y_testnp[maxId] == 1:\n",
    "        correctAns += 1\n",
    "    All += 1\n",
    "    i = k\n",
    "print(correctAns / All)"
   ]
  },
  {
   "cell_type": "markdown",
   "metadata": {},
   "source": [
    "Seyed learning algorithm"
   ]
  },
  {
   "cell_type": "code",
   "execution_count": null,
   "metadata": {},
   "outputs": [],
   "source": [
    "from sklearn.linear_model import SGDClassifier\n",
    "from sklearn.calibration import CalibratedClassifierCV\n",
    "base_model = SGDClassifier(max_iter = 1000000)\n",
    "model = CalibratedClassifierCV(base_model)\n",
    "model.fit(X_trainWithoutIds, yTrain)"
   ]
  },
  {
   "cell_type": "code",
   "execution_count": null,
   "metadata": {},
   "outputs": [],
   "source": [
    "from sklearn.datasets import load_iris\n",
    "from sklearn.model_selection import train_test_split\n",
    "from sklearn.naive_bayes import CategoricalNB as Nbayse\n",
    "gnb = Nbayse()\n",
    "predictions = gnb.fit(X_trainWithoutIds, yTrain).predict_proba(X_testWithoutIds)"
   ]
  },
  {
   "cell_type": "markdown",
   "metadata": {},
   "source": [
    "new algorithms need arrays"
   ]
  },
  {
   "cell_type": "code",
   "execution_count": null,
   "metadata": {},
   "outputs": [],
   "source": [
    "y_trainArr = y_train.to_numpy()\n",
    "yTrain = []\n",
    "for i in range(len(y_trainArr)):\n",
    "    yTrain.append(y_trainArr[i][0])\n",
    "\n",
    "y_testArr = y_test.to_numpy()\n",
    "yTest = []\n",
    "for i in range(len(y_testArr)):\n",
    "    yTest.append(y_testArr[i][0])\n",
    "\n",
    "X_trainWithoutIds = X_trainWithoutIds.to_numpy()\n",
    "X_testWithoutIds = X_testWithoutIds.to_numpy()"
   ]
  }
 ],
 "metadata": {
  "kernelspec": {
   "display_name": "Python 3",
   "language": "python",
   "name": "python3"
  },
  "language_info": {
   "codemirror_mode": {
    "name": "ipython",
    "version": 3
   },
   "file_extension": ".py",
   "mimetype": "text/x-python",
   "name": "python",
   "nbconvert_exporter": "python",
   "pygments_lexer": "ipython3",
   "version": "3.7.5"
  }
 },
 "nbformat": 4,
 "nbformat_minor": 2
}
